{
 "cells": [
  {
   "cell_type": "markdown",
   "id": "737c02f5-451c-4b10-a4ed-eac5bbad6e89",
   "metadata": {},
   "source": [
    "# Week 10 Instructor-led lab: Advanced Statistical Techniques in Python\n",
    "\n",
    "Author: Haiheng Xu  \n",
    "Course: BGEN632 Grad. Intro. to Python  \n",
    "Term: Spring 2025  \n",
    "Date: May 3, 2025 "
   ]
  },
  {
   "cell_type": "markdown",
   "id": "1056f242-7df3-467a-92e8-a2bd75b700b1",
   "metadata": {},
   "source": [
    "## Notebook Setup"
   ]
  },
  {
   "cell_type": "code",
   "execution_count": 3,
   "id": "06435f90-2d12-4e84-bb3c-252176cd8641",
   "metadata": {},
   "outputs": [],
   "source": [
    "import os\n",
    "import numpy as np\n",
    "import pandas as pd\n",
    "import matplotlib.pyplot as plt\n",
    "\n",
    "from sklearn.model_selection import train_test_split\n",
    "\n",
    "# for pca\n",
    "from sklearn import preprocessing\n",
    "from sklearn.decomposition import PCA as pca\n",
    "\n",
    "# for factor analysis\n",
    "from factor_analyzer import FactorAnalyzer\n",
    "from factor_analyzer.factor_analyzer import calculate_bartlett_sphericity\n",
    "from factor_analyzer.factor_analyzer import calculate_kmo\n",
    "\n",
    "# for k-means clustering \n",
    "import sklearn.metrics as metcs\n",
    "from scipy.cluster import hierarchy as hier\n",
    "from sklearn import cluster as cls"
   ]
  },
  {
   "cell_type": "code",
   "execution_count": 4,
   "id": "e664e24e-632b-4b21-a988-4409032519e9",
   "metadata": {},
   "outputs": [],
   "source": [
    "# Import file\n",
    "os.chdir(\"C:\\\\Users\\\\haihe\\\\Desktop\\\\Classes\\\\Intro to Python\\\\week10labs\\\\data\")\n",
    "h_df = pd.read_csv('calihospital.txt', sep='\\t')"
   ]
  },
  {
   "cell_type": "markdown",
   "id": "618a2dbd-0c04-4dba-bc33-e666393ca88d",
   "metadata": {},
   "source": [
    "### Principal Component Analysis (PCA) in Python"
   ]
  },
  {
   "cell_type": "code",
   "execution_count": 6,
   "id": "df27a397-0798-49a8-9884-7b7efcc8fb86",
   "metadata": {},
   "outputs": [],
   "source": [
    "# Select the 7 variables for PCA \n",
    "h_df_pca = h_df[['NoFTE', 'NetPatRev', 'InOperExp', 'OutOperExp', 'OperRev', 'OperInc', \n",
    "                             'AvlBeds']]"
   ]
  },
  {
   "cell_type": "markdown",
   "id": "df592096-4313-4764-90ae-eccf2efc00e0",
   "metadata": {},
   "source": [
    "#### Eigenvalues"
   ]
  },
  {
   "cell_type": "code",
   "execution_count": 8,
   "id": "da04e3ed-b754-4e35-8d97-bbe2896f6bfc",
   "metadata": {},
   "outputs": [
    {
     "name": "stdout",
     "output_type": "stream",
     "text": [
      "[5.72134563e+00 1.07657967e+00 1.91383827e-01 9.31699632e-02\n",
      " 3.29143500e-02 1.27322677e-03 5.91421134e-22]\n"
     ]
    }
   ],
   "source": [
    "# Scale data \n",
    "scaler = preprocessing.StandardScaler()\n",
    "scaled_data = scaler.fit_transform(h_df_pca)\n",
    "\n",
    "# Run PCA\n",
    "pca_result = pca(n_components=7).fit(scaled_data)\n",
    "eigenvalues = pca_result.explained_variance_\n",
    "print(eigenvalues)"
   ]
  },
  {
   "cell_type": "markdown",
   "id": "8fdbd499-043d-4836-b91c-59c60200a1c2",
   "metadata": {},
   "source": [
    "Acoording to the results, there are only 2 variables have a eigenvalue greater than 1, so only 2 or the variables are influrencial."
   ]
  },
  {
   "cell_type": "markdown",
   "id": "5b1c1e97-d758-4a42-afc3-d07a40ed8c7a",
   "metadata": {},
   "source": [
    "#### Scree plot"
   ]
  },
  {
   "cell_type": "code",
   "execution_count": 11,
   "id": "aa652720-704f-40fd-9f42-561ed38aabda",
   "metadata": {},
   "outputs": [
    {
     "data": {
      "image/png": "[encoded data removed]",
      "text/plain": [
       "<Figure size 700x500 with 1 Axes>"
      ]
     },
     "metadata": {},
     "output_type": "display_data"
    }
   ],
   "source": [
    "# Run the PCA \n",
    "pca_result = pca(n_components=7).fit(scaled_data)\n",
    "\n",
    "# Generate scree plot - focus on the output\n",
    "plt.figure(figsize=(7,5))\n",
    "plt.plot([1,2,3,4,5,6,7], pca_result.explained_variance_ratio_, '-o')\n",
    "plt.ylabel('Proportion of Variance Explained') \n",
    "plt.xlabel('Principal Component') \n",
    "plt.xlim(0.75,4.25) \n",
    "plt.ylim(0,1.05) \n",
    "plt.xticks([1,2,3,4,5,6,7])\n",
    "\n",
    "plt.show()"
   ]
  },
  {
   "cell_type": "markdown",
   "id": "cf0da0ec-c199-4d11-b5f7-3057d3159fab",
   "metadata": {},
   "source": [
    "Based on the scree plot, it agree with the results from the eigenvalues, we should only keep 2 variables. Because only the first 2 components are not flat, but starting with the third, it become level and flat."
   ]
  },
  {
   "cell_type": "markdown",
   "id": "802914f1-ad70-4ad4-8840-2383fb2ae378",
   "metadata": {},
   "source": [
    "### Clustering in Python"
   ]
  },
  {
   "cell_type": "code",
   "execution_count": 19,
   "id": "0cf02f28-dfb4-4bd6-b8f0-13eb0a2fabdd",
   "metadata": {},
   "outputs": [
    {
     "name": "stderr",
     "output_type": "stream",
     "text": [
      "C:\\Users\\haihe\\anaconda3\\Lib\\site-packages\\joblib\\externals\\loky\\backend\\context.py:136: UserWarning: Could not find the number of physical cores for the following reason:\n",
      "[WinError 2] The system cannot find the file specified\n",
      "Returning the number of logical cores instead. You can silence this warning by setting LOKY_MAX_CPU_COUNT to the number of cores you want to use.\n",
      "  warnings.warn(\n",
      "  File \"C:\\Users\\haihe\\anaconda3\\Lib\\site-packages\\joblib\\externals\\loky\\backend\\context.py\", line 257, in _count_physical_cores\n",
      "    cpu_info = subprocess.run(\n",
      "               ^^^^^^^^^^^^^^^\n",
      "  File \"C:\\Users\\haihe\\anaconda3\\Lib\\subprocess.py\", line 548, in run\n",
      "    with Popen(*popenargs, **kwargs) as process:\n",
      "         ^^^^^^^^^^^^^^^^^^^^^^^^^^^\n",
      "  File \"C:\\Users\\haihe\\anaconda3\\Lib\\subprocess.py\", line 1026, in __init__\n",
      "    self._execute_child(args, executable, preexec_fn, close_fds,\n",
      "  File \"C:\\Users\\haihe\\anaconda3\\Lib\\subprocess.py\", line 1538, in _execute_child\n",
      "    hp, ht, pid, tid = _winapi.CreateProcess(executable, args,\n",
      "                       ^^^^^^^^^^^^^^^^^^^^^^^^^^^^^^^^^^^^^^^\n",
      "C:\\Users\\haihe\\anaconda3\\Lib\\site-packages\\sklearn\\cluster\\_kmeans.py:1429: UserWarning: KMeans is known to have a memory leak on Windows with MKL, when there are less chunks than available threads. You can avoid it by setting the environment variable OMP_NUM_THREADS=1.\n",
      "  warnings.warn(\n"
     ]
    },
    {
     "data": {
      "text/plain": [
       "array([0, 0, 0, 0, 0, 0, 0, 0, 0, 0, 0, 0, 0, 0, 0, 0, 0, 0, 0, 0, 0, 0,\n",
       "       0, 0, 0, 0, 0, 0, 0, 0, 0, 0, 0, 0, 0, 0, 0, 0, 0, 0, 0, 0, 0, 0,\n",
       "       3, 0, 2, 3, 0, 3, 2, 3, 3, 1, 3, 1, 3, 3, 1, 3, 1])"
      ]
     },
     "execution_count": 19,
     "metadata": {},
     "output_type": "execute_result"
    }
   ],
   "source": [
    "# Select the numerical columns\n",
    "k_df = h_df[['NoFTE', 'NetPatRev', 'InOperExp', 'OutOperExp', 'OperRev', 'OperInc', \n",
    "                             'AvlBeds']]\n",
    "# Scale data \n",
    "scaler = preprocessing.StandardScaler()\n",
    "kscaled_data = scaler.fit_transform(k_df)\n",
    "\n",
    "# Use 4 clusters\n",
    "km_4 = cls.KMeans(n_clusters=4, random_state=7).fit(kscaled_data)\n",
    "\n",
    "# Assigned clusters\n",
    "km_4.labels_"
   ]
  },
  {
   "cell_type": "code",
   "execution_count": 21,
   "id": "f468546c-5b96-4bc5-914b-8b4f70de57ec",
   "metadata": {},
   "outputs": [
    {
     "name": "stderr",
     "output_type": "stream",
     "text": [
      "C:\\Users\\haihe\\anaconda3\\Lib\\site-packages\\sklearn\\cluster\\_kmeans.py:1429: UserWarning: KMeans is known to have a memory leak on Windows with MKL, when there are less chunks than available threads. You can avoid it by setting the environment variable OMP_NUM_THREADS=1.\n",
      "  warnings.warn(\n"
     ]
    },
    {
     "data": {
      "text/plain": [
       "array([0, 0, 0, 0, 0, 0, 0, 0, 0, 0, 0, 0, 0, 0, 0, 0, 0, 0, 0, 0, 0, 0,\n",
       "       0, 0, 0, 0, 0, 0, 0, 0, 0, 0, 0, 0, 0, 0, 0, 0, 0, 0, 0, 0, 0, 0,\n",
       "       0, 0, 1, 0, 0, 0, 1, 0, 1, 1, 1, 1, 0, 0, 1, 1, 1])"
      ]
     },
     "execution_count": 21,
     "metadata": {},
     "output_type": "execute_result"
    }
   ],
   "source": [
    "# Use 2 clusters\n",
    "km_2 = cls.KMeans(n_clusters=2, random_state=7).fit(kscaled_data)\n",
    "\n",
    "# Assigned clusters\n",
    "km_2.labels_"
   ]
  },
  {
   "cell_type": "code",
   "execution_count": 23,
   "id": "676470d7-bc6f-4d66-b114-f45d06fe07bb",
   "metadata": {},
   "outputs": [
    {
     "name": "stderr",
     "output_type": "stream",
     "text": [
      "C:\\Users\\haihe\\anaconda3\\Lib\\site-packages\\sklearn\\cluster\\_kmeans.py:1429: UserWarning: KMeans is known to have a memory leak on Windows with MKL, when there are less chunks than available threads. You can avoid it by setting the environment variable OMP_NUM_THREADS=1.\n",
      "  warnings.warn(\n"
     ]
    },
    {
     "data": {
      "text/plain": [
       "array([0, 0, 0, 0, 0, 0, 0, 0, 0, 0, 0, 0, 0, 0, 0, 0, 0, 0, 0, 0, 0, 0,\n",
       "       0, 0, 0, 0, 0, 0, 0, 0, 0, 0, 0, 0, 0, 0, 0, 0, 0, 0, 0, 0, 0, 0,\n",
       "       3, 0, 2, 5, 5, 3, 2, 3, 3, 1, 4, 1, 3, 3, 1, 4, 1])"
      ]
     },
     "execution_count": 23,
     "metadata": {},
     "output_type": "execute_result"
    }
   ],
   "source": [
    "# Use 6 clusters\n",
    "km_6 = cls.KMeans(n_clusters=6, random_state=7).fit(kscaled_data)\n",
    "\n",
    "# Assigned clusters\n",
    "km_6.labels_"
   ]
  },
  {
   "cell_type": "markdown",
   "id": "efcd4ee4-8f47-4483-aca8-05d830ba382d",
   "metadata": {},
   "source": [
    "By comparing the results of using 2, 4 and 6 clusters, the result from using 2 clusters are showing the best consistency. I think it is fair to justify my choice of k would be 2."
   ]
  },
  {
   "cell_type": "markdown",
   "id": "e35f7841-e508-40a0-9d7a-a85f55ddd082",
   "metadata": {},
   "source": [
    "#### Confusion Matrix"
   ]
  },
  {
   "cell_type": "code",
   "execution_count": 64,
   "id": "47a03166-9c84-45a4-92f9-3ac06f7604d2",
   "metadata": {},
   "outputs": [
    {
     "data": {
      "text/plain": [
       "array([[44,  0],\n",
       "       [ 8,  9]], dtype=int64)"
      ]
     },
     "execution_count": 64,
     "metadata": {},
     "output_type": "execute_result"
    }
   ],
   "source": [
    "# Convert Teaching to categorical\n",
    "h_df['Teaching'] = h_df['Teaching'].astype('category')\n",
    "\n",
    "y_true = h_df['Teaching'].cat.codes\n",
    "y_pred = km_2.labels_\n",
    "cm1 = metcs.confusion_matrix(y_true, y_pred)\n",
    "cm1\n",
    "\n"
   ]
  },
  {
   "cell_type": "code",
   "execution_count": 66,
   "id": "d2692119-b65a-4531-b3c9-2ecd0410dcc7",
   "metadata": {},
   "outputs": [
    {
     "data": {
      "text/plain": [
       "array([[ 5,  2,  0,  0],\n",
       "       [14,  0,  0,  0],\n",
       "       [ 3,  0,  0,  0],\n",
       "       [30,  7,  0,  0]], dtype=int64)"
      ]
     },
     "execution_count": 66,
     "metadata": {},
     "output_type": "execute_result"
    }
   ],
   "source": [
    "# Convert TypeControl to categorical\n",
    "h_df['TypeControl'] = h_df['TypeControl'].astype('category')\n",
    "\n",
    "y_true = h_df['TypeControl'].cat.codes\n",
    "y_pred = km_2.labels_\n",
    "cm2 = metcs.confusion_matrix(y_true, y_pred)\n",
    "cm2\n",
    "\n"
   ]
  },
  {
   "cell_type": "code",
   "execution_count": 71,
   "id": "4de1cc74-d375-4103-a732-6861a903bdb4",
   "metadata": {},
   "outputs": [
    {
     "data": {
      "text/plain": [
       "array([[ 8,  9],\n",
       "       [44,  0]], dtype=int64)"
      ]
     },
     "execution_count": 71,
     "metadata": {},
     "output_type": "execute_result"
    }
   ],
   "source": [
    "# Convert DonorType to categorical\n",
    "h_df['DonorType'] = h_df['DonorType'].astype('category')\n",
    "\n",
    "y_true = h_df['DonorType'].cat.codes\n",
    "y_pred = km_2.labels_\n",
    "cm3 = metcs.confusion_matrix(y_true, y_pred)\n",
    "cm3\n",
    "\n"
   ]
  },
  {
   "cell_type": "markdown",
   "id": "57326bff-37c8-4393-a428-6ecc8f04e6e8",
   "metadata": {},
   "source": [
    "Teaching and DonorType have very good clustering but Teaching has more true positive so Teaching is the best fitting"
   ]
  },
  {
   "cell_type": "markdown",
   "id": "8db4ab6d-2152-4d47-8e3b-20fcb10ddc2b",
   "metadata": {},
   "source": [
    "### References"
   ]
  },
  {
   "cell_type": "markdown",
   "id": "939a2966-afc1-4ef3-9325-87206dd7b78e",
   "metadata": {},
   "source": [
    "1. ChatGPT link: https://chatgpt.com/c/681797df-82a4-800c-96b8-2c37bfc613ce(Screenshot in repo)"
   ]
  }
 ],
 "metadata": {
  "kernelspec": {
   "display_name": "Python [conda env:base] *",
   "language": "python",
   "name": "conda-base-py"
  },
  "language_info": {
   "codemirror_mode": {
    "name": "ipython",
    "version": 3
   },
   "file_extension": ".py",
   "mimetype": "text/x-python",
   "name": "python",
   "nbconvert_exporter": "python",
   "pygments_lexer": "ipython3",
   "version": "3.12.7"
  }
 },
 "nbformat": 4,
 "nbformat_minor": 5
}
